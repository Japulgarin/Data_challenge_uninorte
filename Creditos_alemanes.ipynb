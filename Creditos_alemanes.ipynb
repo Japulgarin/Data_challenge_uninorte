{
 "cells": [
  {
   "cell_type": "code",
   "execution_count": 1,
   "metadata": {},
   "outputs": [
    {
     "name": "stdout",
     "output_type": "stream",
     "text": [
      "Looking in indexes: https://artifactory.apps.bancolombia.com/api/pypi/pypi-bancolombia/simpleNote: you may need to restart the kernel to use updated packages.\n",
      "\n",
      "Collecting ucimlrepo\n",
      "  Downloading https://artifactory.apps.bancolombia.com/api/pypi/pypi-bancolombia/packages/packages/85/8b/aab8a1c1344af158feb0b7f13d15ae184bc1e93625cea98d9c783b2e29d4/ucimlrepo-0.0.2-py3-none-any.whl (7.0 kB)\n",
      "Installing collected packages: ucimlrepo\n",
      "Successfully installed ucimlrepo-0.0.2\n"
     ]
    },
    {
     "name": "stderr",
     "output_type": "stream",
     "text": [
      "WARNING: Ignoring invalid distribution -cipy (c:\\users\\jopulgar\\anaconda3\\lib\\site-packages)\n",
      "WARNING: Ignoring invalid distribution -cipy (c:\\users\\jopulgar\\anaconda3\\lib\\site-packages)\n",
      "WARNING: Ignoring invalid distribution -cipy (c:\\users\\jopulgar\\anaconda3\\lib\\site-packages)\n",
      "WARNING: Ignoring invalid distribution -cipy (c:\\users\\jopulgar\\anaconda3\\lib\\site-packages)\n",
      "WARNING: Ignoring invalid distribution -cipy (c:\\users\\jopulgar\\anaconda3\\lib\\site-packages)\n",
      "WARNING: Ignoring invalid distribution -cipy (c:\\users\\jopulgar\\anaconda3\\lib\\site-packages)\n"
     ]
    }
   ],
   "source": [
    "pip install ucimlrepo --user\n"
   ]
  },
  {
   "cell_type": "markdown",
   "metadata": {},
   "source": [
    "Estamos descargando una Base de datos  de informacion creditica de un banco aleman de 1994. Este conjunto de datos clasifica a las personas descritas por un conjunto de atributos como de buen o mal riesgo crediticio."
   ]
  },
  {
   "cell_type": "code",
   "execution_count": null,
   "metadata": {},
   "outputs": [],
   "source": [
    "from ucimlrepo import fetch_ucirepo \n",
    "  \n",
    "# fetch dataset \n",
    "statlog_german_credit_data = fetch_ucirepo(id=144) \n",
    "  \n",
    "# data (as pandas dataframes) \n",
    "X = statlog_german_credit_data.data.features \n",
    "y = statlog_german_credit_data.data.targets \n",
    "  \n",
    "# metadata \n",
    "print(statlog_german_credit_data.metadata) \n",
    "  \n",
    "# variable information \n",
    "print(statlog_german_credit_data.variables) "
   ]
  },
  {
   "cell_type": "markdown",
   "metadata": {},
   "source": [
    "Revision de nuestras variables "
   ]
  },
  {
   "cell_type": "code",
   "execution_count": 35,
   "metadata": {},
   "outputs": [
    {
     "data": {
      "text/html": [
       "<div>\n",
       "<style scoped>\n",
       "    .dataframe tbody tr th:only-of-type {\n",
       "        vertical-align: middle;\n",
       "    }\n",
       "\n",
       "    .dataframe tbody tr th {\n",
       "        vertical-align: top;\n",
       "    }\n",
       "\n",
       "    .dataframe thead th {\n",
       "        text-align: right;\n",
       "    }\n",
       "</style>\n",
       "<table border=\"1\" class=\"dataframe\">\n",
       "  <thead>\n",
       "    <tr style=\"text-align: right;\">\n",
       "      <th></th>\n",
       "      <th>Attribute1</th>\n",
       "      <th>Attribute2</th>\n",
       "      <th>Attribute3</th>\n",
       "      <th>Attribute4</th>\n",
       "      <th>Attribute5</th>\n",
       "      <th>Attribute6</th>\n",
       "      <th>Attribute7</th>\n",
       "      <th>Attribute8</th>\n",
       "      <th>Attribute9</th>\n",
       "      <th>Attribute10</th>\n",
       "      <th>Attribute11</th>\n",
       "      <th>Attribute12</th>\n",
       "      <th>Attribute13</th>\n",
       "      <th>Attribute14</th>\n",
       "      <th>Attribute15</th>\n",
       "      <th>Attribute16</th>\n",
       "      <th>Attribute17</th>\n",
       "      <th>Attribute18</th>\n",
       "      <th>Attribute19</th>\n",
       "      <th>Attribute20</th>\n",
       "    </tr>\n",
       "  </thead>\n",
       "  <tbody>\n",
       "    <tr>\n",
       "      <th>0</th>\n",
       "      <td>A11</td>\n",
       "      <td>6</td>\n",
       "      <td>A34</td>\n",
       "      <td>A43</td>\n",
       "      <td>1169</td>\n",
       "      <td>A65</td>\n",
       "      <td>A75</td>\n",
       "      <td>4</td>\n",
       "      <td>A93</td>\n",
       "      <td>A101</td>\n",
       "      <td>4</td>\n",
       "      <td>A121</td>\n",
       "      <td>67</td>\n",
       "      <td>A143</td>\n",
       "      <td>A152</td>\n",
       "      <td>2</td>\n",
       "      <td>A173</td>\n",
       "      <td>1</td>\n",
       "      <td>A192</td>\n",
       "      <td>A201</td>\n",
       "    </tr>\n",
       "    <tr>\n",
       "      <th>1</th>\n",
       "      <td>A12</td>\n",
       "      <td>48</td>\n",
       "      <td>A32</td>\n",
       "      <td>A43</td>\n",
       "      <td>5951</td>\n",
       "      <td>A61</td>\n",
       "      <td>A73</td>\n",
       "      <td>2</td>\n",
       "      <td>A92</td>\n",
       "      <td>A101</td>\n",
       "      <td>2</td>\n",
       "      <td>A121</td>\n",
       "      <td>22</td>\n",
       "      <td>A143</td>\n",
       "      <td>A152</td>\n",
       "      <td>1</td>\n",
       "      <td>A173</td>\n",
       "      <td>1</td>\n",
       "      <td>A191</td>\n",
       "      <td>A201</td>\n",
       "    </tr>\n",
       "  </tbody>\n",
       "</table>\n",
       "</div>"
      ],
      "text/plain": [
       "  Attribute1  Attribute2 Attribute3 Attribute4  Attribute5 Attribute6  \\\n",
       "0        A11           6        A34        A43        1169        A65   \n",
       "1        A12          48        A32        A43        5951        A61   \n",
       "\n",
       "  Attribute7  Attribute8 Attribute9 Attribute10  Attribute11 Attribute12  \\\n",
       "0        A75           4        A93        A101            4        A121   \n",
       "1        A73           2        A92        A101            2        A121   \n",
       "\n",
       "   Attribute13 Attribute14 Attribute15  Attribute16 Attribute17  Attribute18  \\\n",
       "0           67        A143        A152            2        A173            1   \n",
       "1           22        A143        A152            1        A173            1   \n",
       "\n",
       "  Attribute19 Attribute20  \n",
       "0        A192        A201  \n",
       "1        A191        A201  "
      ]
     },
     "execution_count": 35,
     "metadata": {},
     "output_type": "execute_result"
    }
   ],
   "source": [
    "#Revisar nuestros datos \n",
    "X.head(2)"
   ]
  },
  {
   "cell_type": "code",
   "execution_count": 36,
   "metadata": {},
   "outputs": [
    {
     "name": "stderr",
     "output_type": "stream",
     "text": [
      "C:\\Users\\jopulgar\\AppData\\Local\\Temp\\ipykernel_27884\\3039125898.py:4: SettingWithCopyWarning: \n",
      "A value is trying to be set on a copy of a slice from a DataFrame\n",
      "\n",
      "See the caveats in the documentation: https://pandas.pydata.org/pandas-docs/stable/user_guide/indexing.html#returning-a-view-versus-a-copy\n",
      "  X.rename(columns={\n"
     ]
    }
   ],
   "source": [
    "#Rebombrar nuestras columnas con base a la documentacion \n",
    "\n",
    "\n",
    "X.rename(columns={\n",
    "    'Attribute1': 'Estado_Cuenta_Corriente','Attribute2': 'Duracion_Meses','Attribute3': 'Historial_Credito','Attribute4': 'Proposito','Attribute5': 'Monto_Credito',\n",
    "     'Attribute6': 'Estado_Cuenta_Ahorros','Attribute7': 'Antiguedad_Empleo','Attribute8': 'Porcentaje_Cuota','Attribute9': 'Estado_Personal_Sexo','Attribute10': 'Otros_Deudores_Avalistas',\n",
    " 'Attribute11': 'Antiguedad_Residencia','Attribute12': 'Tipo_Propiedad','Attribute13': 'Edad_Anos','Attribute14': 'Otros_Planes_Financiamiento','Attribute15': 'Tipo_Vivienda',\n",
    " 'Attribute16': 'Cantidad_Creditos_Existentes','Attribute17': 'Tipo_Trabajo','Attribute18': 'Cantidad_Dependientes','Attribute19': 'Telefono',\n",
    " 'Attribute20': 'Es_Trabajador_Extranjero'\n",
    "}, inplace=True)\n"
   ]
  },
  {
   "cell_type": "markdown",
   "metadata": {},
   "source": [
    "Es iportante hacer un pequeño anlisis de nuestra base de datos y revisar que tipos de datos tenemos como si tambien tenemos datos faltantes"
   ]
  },
  {
   "cell_type": "code",
   "execution_count": 37,
   "metadata": {},
   "outputs": [
    {
     "data": {
      "text/plain": [
       "False"
      ]
     },
     "execution_count": 37,
     "metadata": {},
     "output_type": "execute_result"
    }
   ],
   "source": [
    "X.isna().any().any()"
   ]
  },
  {
   "cell_type": "code",
   "execution_count": 38,
   "metadata": {},
   "outputs": [
    {
     "data": {
      "text/plain": [
       "Estado_Cuenta_Corriente  Duracion_Meses  Historial_Credito  Proposito  Monto_Credito  Estado_Cuenta_Ahorros  Antiguedad_Empleo  Porcentaje_Cuota  Estado_Personal_Sexo  Otros_Deudores_Avalistas  Antiguedad_Residencia  Tipo_Propiedad  Edad_Anos  Otros_Planes_Financiamiento  Tipo_Vivienda  Cantidad_Creditos_Existentes  Tipo_Trabajo  Cantidad_Dependientes  Telefono  Es_Trabajador_Extranjero\n",
       "False                    False           False              False      False          False                  False              False             False                 False                     False                  False           False      False                        False          False                         False         False                  False     False                       1000\n",
       "Name: count, dtype: int64"
      ]
     },
     "execution_count": 38,
     "metadata": {},
     "output_type": "execute_result"
    }
   ],
   "source": [
    "#Atributo que nos devuelve la existencia de datos faltantes\n",
    "X.isna().value_counts()"
   ]
  },
  {
   "cell_type": "code",
   "execution_count": 39,
   "metadata": {},
   "outputs": [
    {
     "data": {
      "text/html": [
       "<div>\n",
       "<style scoped>\n",
       "    .dataframe tbody tr th:only-of-type {\n",
       "        vertical-align: middle;\n",
       "    }\n",
       "\n",
       "    .dataframe tbody tr th {\n",
       "        vertical-align: top;\n",
       "    }\n",
       "\n",
       "    .dataframe thead th {\n",
       "        text-align: right;\n",
       "    }\n",
       "</style>\n",
       "<table border=\"1\" class=\"dataframe\">\n",
       "  <thead>\n",
       "    <tr style=\"text-align: right;\">\n",
       "      <th></th>\n",
       "      <th>Estado_Cuenta_Corriente</th>\n",
       "      <th>Duracion_Meses</th>\n",
       "      <th>Historial_Credito</th>\n",
       "      <th>Proposito</th>\n",
       "      <th>Monto_Credito</th>\n",
       "      <th>Estado_Cuenta_Ahorros</th>\n",
       "      <th>Antiguedad_Empleo</th>\n",
       "      <th>Porcentaje_Cuota</th>\n",
       "      <th>Estado_Personal_Sexo</th>\n",
       "      <th>Otros_Deudores_Avalistas</th>\n",
       "      <th>Antiguedad_Residencia</th>\n",
       "      <th>Tipo_Propiedad</th>\n",
       "      <th>Edad_Anos</th>\n",
       "      <th>Otros_Planes_Financiamiento</th>\n",
       "      <th>Tipo_Vivienda</th>\n",
       "      <th>Cantidad_Creditos_Existentes</th>\n",
       "      <th>Tipo_Trabajo</th>\n",
       "      <th>Cantidad_Dependientes</th>\n",
       "      <th>Telefono</th>\n",
       "      <th>Es_Trabajador_Extranjero</th>\n",
       "    </tr>\n",
       "  </thead>\n",
       "  <tbody>\n",
       "    <tr>\n",
       "      <th>0</th>\n",
       "      <td>A11</td>\n",
       "      <td>6</td>\n",
       "      <td>A34</td>\n",
       "      <td>A43</td>\n",
       "      <td>1169</td>\n",
       "      <td>A65</td>\n",
       "      <td>A75</td>\n",
       "      <td>4</td>\n",
       "      <td>A93</td>\n",
       "      <td>A101</td>\n",
       "      <td>4</td>\n",
       "      <td>A121</td>\n",
       "      <td>67</td>\n",
       "      <td>A143</td>\n",
       "      <td>A152</td>\n",
       "      <td>2</td>\n",
       "      <td>A173</td>\n",
       "      <td>1</td>\n",
       "      <td>A192</td>\n",
       "      <td>A201</td>\n",
       "    </tr>\n",
       "    <tr>\n",
       "      <th>1</th>\n",
       "      <td>A12</td>\n",
       "      <td>48</td>\n",
       "      <td>A32</td>\n",
       "      <td>A43</td>\n",
       "      <td>5951</td>\n",
       "      <td>A61</td>\n",
       "      <td>A73</td>\n",
       "      <td>2</td>\n",
       "      <td>A92</td>\n",
       "      <td>A101</td>\n",
       "      <td>2</td>\n",
       "      <td>A121</td>\n",
       "      <td>22</td>\n",
       "      <td>A143</td>\n",
       "      <td>A152</td>\n",
       "      <td>1</td>\n",
       "      <td>A173</td>\n",
       "      <td>1</td>\n",
       "      <td>A191</td>\n",
       "      <td>A201</td>\n",
       "    </tr>\n",
       "  </tbody>\n",
       "</table>\n",
       "</div>"
      ],
      "text/plain": [
       "  Estado_Cuenta_Corriente  Duracion_Meses Historial_Credito Proposito  \\\n",
       "0                     A11               6               A34       A43   \n",
       "1                     A12              48               A32       A43   \n",
       "\n",
       "   Monto_Credito Estado_Cuenta_Ahorros Antiguedad_Empleo  Porcentaje_Cuota  \\\n",
       "0           1169                   A65               A75                 4   \n",
       "1           5951                   A61               A73                 2   \n",
       "\n",
       "  Estado_Personal_Sexo Otros_Deudores_Avalistas  Antiguedad_Residencia  \\\n",
       "0                  A93                     A101                      4   \n",
       "1                  A92                     A101                      2   \n",
       "\n",
       "  Tipo_Propiedad  Edad_Anos Otros_Planes_Financiamiento Tipo_Vivienda  \\\n",
       "0           A121         67                        A143          A152   \n",
       "1           A121         22                        A143          A152   \n",
       "\n",
       "   Cantidad_Creditos_Existentes Tipo_Trabajo  Cantidad_Dependientes Telefono  \\\n",
       "0                             2         A173                      1     A192   \n",
       "1                             1         A173                      1     A191   \n",
       "\n",
       "  Es_Trabajador_Extranjero  \n",
       "0                     A201  \n",
       "1                     A201  "
      ]
     },
     "execution_count": 39,
     "metadata": {},
     "output_type": "execute_result"
    }
   ],
   "source": [
    "X.head(2)"
   ]
  },
  {
   "cell_type": "code",
   "execution_count": 40,
   "metadata": {},
   "outputs": [
    {
     "data": {
      "text/plain": [
       "Estado_Cuenta_Corriente         object\n",
       "Duracion_Meses                   int64\n",
       "Historial_Credito               object\n",
       "Proposito                       object\n",
       "Monto_Credito                    int64\n",
       "Estado_Cuenta_Ahorros           object\n",
       "Antiguedad_Empleo               object\n",
       "Porcentaje_Cuota                 int64\n",
       "Estado_Personal_Sexo            object\n",
       "Otros_Deudores_Avalistas        object\n",
       "Antiguedad_Residencia            int64\n",
       "Tipo_Propiedad                  object\n",
       "Edad_Anos                        int64\n",
       "Otros_Planes_Financiamiento     object\n",
       "Tipo_Vivienda                   object\n",
       "Cantidad_Creditos_Existentes     int64\n",
       "Tipo_Trabajo                    object\n",
       "Cantidad_Dependientes            int64\n",
       "Telefono                        object\n",
       "Es_Trabajador_Extranjero        object\n",
       "dtype: object"
      ]
     },
     "execution_count": 40,
     "metadata": {},
     "output_type": "execute_result"
    }
   ],
   "source": [
    "#Revisar los tipos de datos de nuestras variables\n",
    "X.dtypes\n",
    "#int64 = variable numerica \n",
    "#Objeto normalmente un texto pero puede ser el caso de tener texto y numeros"
   ]
  },
  {
   "cell_type": "code",
   "execution_count": 41,
   "metadata": {},
   "outputs": [
    {
     "data": {
      "text/html": [
       "<div>\n",
       "<style scoped>\n",
       "    .dataframe tbody tr th:only-of-type {\n",
       "        vertical-align: middle;\n",
       "    }\n",
       "\n",
       "    .dataframe tbody tr th {\n",
       "        vertical-align: top;\n",
       "    }\n",
       "\n",
       "    .dataframe thead th {\n",
       "        text-align: right;\n",
       "    }\n",
       "</style>\n",
       "<table border=\"1\" class=\"dataframe\">\n",
       "  <thead>\n",
       "    <tr style=\"text-align: right;\">\n",
       "      <th></th>\n",
       "      <th>Estado_Cuenta_Corriente</th>\n",
       "      <th>Duracion_Meses</th>\n",
       "      <th>Historial_Credito</th>\n",
       "      <th>Proposito</th>\n",
       "      <th>Monto_Credito</th>\n",
       "      <th>Estado_Cuenta_Ahorros</th>\n",
       "      <th>Antiguedad_Empleo</th>\n",
       "      <th>Porcentaje_Cuota</th>\n",
       "      <th>Estado_Personal_Sexo</th>\n",
       "      <th>Otros_Deudores_Avalistas</th>\n",
       "      <th>Antiguedad_Residencia</th>\n",
       "      <th>Tipo_Propiedad</th>\n",
       "      <th>Edad_Anos</th>\n",
       "      <th>Otros_Planes_Financiamiento</th>\n",
       "      <th>Tipo_Vivienda</th>\n",
       "      <th>Cantidad_Creditos_Existentes</th>\n",
       "      <th>Tipo_Trabajo</th>\n",
       "      <th>Cantidad_Dependientes</th>\n",
       "      <th>Telefono</th>\n",
       "      <th>Es_Trabajador_Extranjero</th>\n",
       "    </tr>\n",
       "  </thead>\n",
       "  <tbody>\n",
       "    <tr>\n",
       "      <th>0</th>\n",
       "      <td>A11</td>\n",
       "      <td>6</td>\n",
       "      <td>A34</td>\n",
       "      <td>A43</td>\n",
       "      <td>1169</td>\n",
       "      <td>A65</td>\n",
       "      <td>A75</td>\n",
       "      <td>4</td>\n",
       "      <td>A93</td>\n",
       "      <td>A101</td>\n",
       "      <td>4</td>\n",
       "      <td>A121</td>\n",
       "      <td>67</td>\n",
       "      <td>A143</td>\n",
       "      <td>A152</td>\n",
       "      <td>2</td>\n",
       "      <td>A173</td>\n",
       "      <td>1</td>\n",
       "      <td>A192</td>\n",
       "      <td>A201</td>\n",
       "    </tr>\n",
       "    <tr>\n",
       "      <th>1</th>\n",
       "      <td>A12</td>\n",
       "      <td>48</td>\n",
       "      <td>A32</td>\n",
       "      <td>A43</td>\n",
       "      <td>5951</td>\n",
       "      <td>A61</td>\n",
       "      <td>A73</td>\n",
       "      <td>2</td>\n",
       "      <td>A92</td>\n",
       "      <td>A101</td>\n",
       "      <td>2</td>\n",
       "      <td>A121</td>\n",
       "      <td>22</td>\n",
       "      <td>A143</td>\n",
       "      <td>A152</td>\n",
       "      <td>1</td>\n",
       "      <td>A173</td>\n",
       "      <td>1</td>\n",
       "      <td>A191</td>\n",
       "      <td>A201</td>\n",
       "    </tr>\n",
       "    <tr>\n",
       "      <th>2</th>\n",
       "      <td>A14</td>\n",
       "      <td>12</td>\n",
       "      <td>A34</td>\n",
       "      <td>A46</td>\n",
       "      <td>2096</td>\n",
       "      <td>A61</td>\n",
       "      <td>A74</td>\n",
       "      <td>2</td>\n",
       "      <td>A93</td>\n",
       "      <td>A101</td>\n",
       "      <td>3</td>\n",
       "      <td>A121</td>\n",
       "      <td>49</td>\n",
       "      <td>A143</td>\n",
       "      <td>A152</td>\n",
       "      <td>1</td>\n",
       "      <td>A172</td>\n",
       "      <td>2</td>\n",
       "      <td>A191</td>\n",
       "      <td>A201</td>\n",
       "    </tr>\n",
       "  </tbody>\n",
       "</table>\n",
       "</div>"
      ],
      "text/plain": [
       "  Estado_Cuenta_Corriente  Duracion_Meses Historial_Credito Proposito  \\\n",
       "0                     A11               6               A34       A43   \n",
       "1                     A12              48               A32       A43   \n",
       "2                     A14              12               A34       A46   \n",
       "\n",
       "   Monto_Credito Estado_Cuenta_Ahorros Antiguedad_Empleo  Porcentaje_Cuota  \\\n",
       "0           1169                   A65               A75                 4   \n",
       "1           5951                   A61               A73                 2   \n",
       "2           2096                   A61               A74                 2   \n",
       "\n",
       "  Estado_Personal_Sexo Otros_Deudores_Avalistas  Antiguedad_Residencia  \\\n",
       "0                  A93                     A101                      4   \n",
       "1                  A92                     A101                      2   \n",
       "2                  A93                     A101                      3   \n",
       "\n",
       "  Tipo_Propiedad  Edad_Anos Otros_Planes_Financiamiento Tipo_Vivienda  \\\n",
       "0           A121         67                        A143          A152   \n",
       "1           A121         22                        A143          A152   \n",
       "2           A121         49                        A143          A152   \n",
       "\n",
       "   Cantidad_Creditos_Existentes Tipo_Trabajo  Cantidad_Dependientes Telefono  \\\n",
       "0                             2         A173                      1     A192   \n",
       "1                             1         A173                      1     A191   \n",
       "2                             1         A172                      2     A191   \n",
       "\n",
       "  Es_Trabajador_Extranjero  \n",
       "0                     A201  \n",
       "1                     A201  \n",
       "2                     A201  "
      ]
     },
     "execution_count": 41,
     "metadata": {},
     "output_type": "execute_result"
    }
   ],
   "source": [
    "X.head(3)"
   ]
  },
  {
   "cell_type": "markdown",
   "metadata": {},
   "source": [
    "Ahora debemos convertir nuestras variables categoricas en numero interpretables para nuestros modelos utilizaremos  el preprocesador OrdinalEncoder de sklearn para poder tranformar nuestros datos"
   ]
  },
  {
   "cell_type": "code",
   "execution_count": 42,
   "metadata": {},
   "outputs": [
    {
     "name": "stderr",
     "output_type": "stream",
     "text": [
      "C:\\Users\\jopulgar\\AppData\\Local\\Temp\\ipykernel_27884\\360856234.py:11: SettingWithCopyWarning: \n",
      "A value is trying to be set on a copy of a slice from a DataFrame.\n",
      "Try using .loc[row_indexer,col_indexer] = value instead\n",
      "\n",
      "See the caveats in the documentation: https://pandas.pydata.org/pandas-docs/stable/user_guide/indexing.html#returning-a-view-versus-a-copy\n",
      "  X[columnas_object] = encoder.fit_transform(X[columnas_object])\n"
     ]
    },
    {
     "data": {
      "text/html": [
       "<div>\n",
       "<style scoped>\n",
       "    .dataframe tbody tr th:only-of-type {\n",
       "        vertical-align: middle;\n",
       "    }\n",
       "\n",
       "    .dataframe tbody tr th {\n",
       "        vertical-align: top;\n",
       "    }\n",
       "\n",
       "    .dataframe thead th {\n",
       "        text-align: right;\n",
       "    }\n",
       "</style>\n",
       "<table border=\"1\" class=\"dataframe\">\n",
       "  <thead>\n",
       "    <tr style=\"text-align: right;\">\n",
       "      <th></th>\n",
       "      <th>Estado_Cuenta_Corriente</th>\n",
       "      <th>Duracion_Meses</th>\n",
       "      <th>Historial_Credito</th>\n",
       "      <th>Proposito</th>\n",
       "      <th>Monto_Credito</th>\n",
       "      <th>Estado_Cuenta_Ahorros</th>\n",
       "      <th>Antiguedad_Empleo</th>\n",
       "      <th>Porcentaje_Cuota</th>\n",
       "      <th>Estado_Personal_Sexo</th>\n",
       "      <th>Otros_Deudores_Avalistas</th>\n",
       "      <th>Antiguedad_Residencia</th>\n",
       "      <th>Tipo_Propiedad</th>\n",
       "      <th>Edad_Anos</th>\n",
       "      <th>Otros_Planes_Financiamiento</th>\n",
       "      <th>Tipo_Vivienda</th>\n",
       "      <th>Cantidad_Creditos_Existentes</th>\n",
       "      <th>Tipo_Trabajo</th>\n",
       "      <th>Cantidad_Dependientes</th>\n",
       "      <th>Telefono</th>\n",
       "      <th>Es_Trabajador_Extranjero</th>\n",
       "    </tr>\n",
       "  </thead>\n",
       "  <tbody>\n",
       "    <tr>\n",
       "      <th>0</th>\n",
       "      <td>0.0</td>\n",
       "      <td>6</td>\n",
       "      <td>4.0</td>\n",
       "      <td>4.0</td>\n",
       "      <td>1169</td>\n",
       "      <td>4.0</td>\n",
       "      <td>4.0</td>\n",
       "      <td>4</td>\n",
       "      <td>2.0</td>\n",
       "      <td>0.0</td>\n",
       "      <td>4</td>\n",
       "      <td>0.0</td>\n",
       "      <td>67</td>\n",
       "      <td>2.0</td>\n",
       "      <td>1.0</td>\n",
       "      <td>2</td>\n",
       "      <td>2.0</td>\n",
       "      <td>1</td>\n",
       "      <td>1.0</td>\n",
       "      <td>0.0</td>\n",
       "    </tr>\n",
       "    <tr>\n",
       "      <th>1</th>\n",
       "      <td>1.0</td>\n",
       "      <td>48</td>\n",
       "      <td>2.0</td>\n",
       "      <td>4.0</td>\n",
       "      <td>5951</td>\n",
       "      <td>0.0</td>\n",
       "      <td>2.0</td>\n",
       "      <td>2</td>\n",
       "      <td>1.0</td>\n",
       "      <td>0.0</td>\n",
       "      <td>2</td>\n",
       "      <td>0.0</td>\n",
       "      <td>22</td>\n",
       "      <td>2.0</td>\n",
       "      <td>1.0</td>\n",
       "      <td>1</td>\n",
       "      <td>2.0</td>\n",
       "      <td>1</td>\n",
       "      <td>0.0</td>\n",
       "      <td>0.0</td>\n",
       "    </tr>\n",
       "    <tr>\n",
       "      <th>2</th>\n",
       "      <td>3.0</td>\n",
       "      <td>12</td>\n",
       "      <td>4.0</td>\n",
       "      <td>7.0</td>\n",
       "      <td>2096</td>\n",
       "      <td>0.0</td>\n",
       "      <td>3.0</td>\n",
       "      <td>2</td>\n",
       "      <td>2.0</td>\n",
       "      <td>0.0</td>\n",
       "      <td>3</td>\n",
       "      <td>0.0</td>\n",
       "      <td>49</td>\n",
       "      <td>2.0</td>\n",
       "      <td>1.0</td>\n",
       "      <td>1</td>\n",
       "      <td>1.0</td>\n",
       "      <td>2</td>\n",
       "      <td>0.0</td>\n",
       "      <td>0.0</td>\n",
       "    </tr>\n",
       "  </tbody>\n",
       "</table>\n",
       "</div>"
      ],
      "text/plain": [
       "   Estado_Cuenta_Corriente  Duracion_Meses  Historial_Credito  Proposito  \\\n",
       "0                      0.0               6                4.0        4.0   \n",
       "1                      1.0              48                2.0        4.0   \n",
       "2                      3.0              12                4.0        7.0   \n",
       "\n",
       "   Monto_Credito  Estado_Cuenta_Ahorros  Antiguedad_Empleo  Porcentaje_Cuota  \\\n",
       "0           1169                    4.0                4.0                 4   \n",
       "1           5951                    0.0                2.0                 2   \n",
       "2           2096                    0.0                3.0                 2   \n",
       "\n",
       "   Estado_Personal_Sexo  Otros_Deudores_Avalistas  Antiguedad_Residencia  \\\n",
       "0                   2.0                       0.0                      4   \n",
       "1                   1.0                       0.0                      2   \n",
       "2                   2.0                       0.0                      3   \n",
       "\n",
       "   Tipo_Propiedad  Edad_Anos  Otros_Planes_Financiamiento  Tipo_Vivienda  \\\n",
       "0             0.0         67                          2.0            1.0   \n",
       "1             0.0         22                          2.0            1.0   \n",
       "2             0.0         49                          2.0            1.0   \n",
       "\n",
       "   Cantidad_Creditos_Existentes  Tipo_Trabajo  Cantidad_Dependientes  \\\n",
       "0                             2           2.0                      1   \n",
       "1                             1           2.0                      1   \n",
       "2                             1           1.0                      2   \n",
       "\n",
       "   Telefono  Es_Trabajador_Extranjero  \n",
       "0       1.0                       0.0  \n",
       "1       0.0                       0.0  \n",
       "2       0.0                       0.0  "
      ]
     },
     "execution_count": 42,
     "metadata": {},
     "output_type": "execute_result"
    }
   ],
   "source": [
    "import pandas as pd\n",
    "from sklearn.preprocessing import OrdinalEncoder\n",
    "\n",
    "# Filtrar las columnas de tipo 'object'\n",
    "columnas_object = X.select_dtypes(include=['object']).columns\n",
    "\n",
    "# Instanciar el encoder\n",
    "encoder = OrdinalEncoder()\n",
    "\n",
    "# Aplicar el encoder a las columnas de tipo 'object'\n",
    "X[columnas_object] = encoder.fit_transform(X[columnas_object])\n",
    "\n",
    "# Mostrar el DataFrame resultante\n",
    "X.head(3)\n"
   ]
  },
  {
   "cell_type": "code",
   "execution_count": 43,
   "metadata": {},
   "outputs": [
    {
     "data": {
      "text/plain": [
       "class\n",
       "1        700\n",
       "2        300\n",
       "Name: count, dtype: int64"
      ]
     },
     "execution_count": 43,
     "metadata": {},
     "output_type": "execute_result"
    }
   ],
   "source": [
    "\n",
    "y.value_counts()\n",
    "#Revisar en la documentacion  que significan las clases\n",
    "# Notamos como el tipo de datos es int64 lo que \n",
    "# significa que no es necesarios convertir nuestra variable objetivo\n",
    "# 1 Buen credito y 0 mal credito"
   ]
  },
  {
   "cell_type": "code",
   "execution_count": 54,
   "metadata": {},
   "outputs": [
    {
     "data": {
      "text/html": [
       "<div>\n",
       "<style scoped>\n",
       "    .dataframe tbody tr th:only-of-type {\n",
       "        vertical-align: middle;\n",
       "    }\n",
       "\n",
       "    .dataframe tbody tr th {\n",
       "        vertical-align: top;\n",
       "    }\n",
       "\n",
       "    .dataframe thead th {\n",
       "        text-align: right;\n",
       "    }\n",
       "</style>\n",
       "<table border=\"1\" class=\"dataframe\">\n",
       "  <thead>\n",
       "    <tr style=\"text-align: right;\">\n",
       "      <th></th>\n",
       "      <th>class</th>\n",
       "    </tr>\n",
       "  </thead>\n",
       "  <tbody>\n",
       "    <tr>\n",
       "      <th>0</th>\n",
       "      <td>1</td>\n",
       "    </tr>\n",
       "    <tr>\n",
       "      <th>1</th>\n",
       "      <td>2</td>\n",
       "    </tr>\n",
       "  </tbody>\n",
       "</table>\n",
       "</div>"
      ],
      "text/plain": [
       "   class\n",
       "0      1\n",
       "1      2"
      ]
     },
     "execution_count": 54,
     "metadata": {},
     "output_type": "execute_result"
    }
   ],
   "source": [
    "y.head(2)\n",
    "#Nombre de clases 1 y 2 "
   ]
  },
  {
   "cell_type": "markdown",
   "metadata": {},
   "source": [
    "Primer modelo arbor de descicion "
   ]
  },
  {
   "cell_type": "code",
   "execution_count": 51,
   "metadata": {},
   "outputs": [
    {
     "name": "stdout",
     "output_type": "stream",
     "text": [
      "Exactitud: 0.6733333333333333\n",
      "Precisión: 0.6615159325658209\n",
      "Sensibilidad: 0.6733333333333333\n",
      "Puntuación F1: 0.6663620611035111\n",
      "Matriz de Confusión:\n"
     ]
    },
    {
     "data": {
      "image/png": "[encoded data removed]",
      "text/plain": [
       "<Figure size 1000x700 with 2 Axes>"
      ]
     },
     "metadata": {},
     "output_type": "display_data"
    }
   ],
   "source": [
    "import seaborn as sns\n",
    "import matplotlib.pyplot as plt\n",
    "from sklearn.tree import DecisionTreeClassifier\n",
    "from sklearn.model_selection import train_test_split\n",
    "from sklearn.metrics import accuracy_score, precision_score, recall_score, f1_score, confusion_matrix\n",
    "\n",
    "\n",
    "\n",
    "# Dividir los datos en conjuntos de entrenamiento y prueba\n",
    "X_train, X_test, Y_train, Y_test = train_test_split(X, y, test_size=0.3, random_state=42)\n",
    "\n",
    "# Inicializar el Árbol de Decisión\n",
    "clf = DecisionTreeClassifier(max_depth=42, random_state=42)\n",
    "\n",
    "# Entrenar el clasificador\n",
    "clf.fit(X_train, Y_train)\n",
    "\n",
    "# Realizar predicciones en el conjunto de prueba\n",
    "Y_pred = clf.predict(X_test)\n",
    "\n",
    "# Calcular métricas\n",
    "exactitud = accuracy_score(Y_test, Y_pred)\n",
    "precision = precision_score(Y_test, Y_pred, average='weighted') \n",
    "sensibilidad = recall_score(Y_test, Y_pred, average='weighted')\n",
    "f1 = f1_score(Y_test, Y_pred, average='weighted')\n",
    "matriz_confusion = confusion_matrix(Y_test, Y_pred)\n",
    "\n",
    "print(f\"Exactitud: {exactitud}\")\n",
    "print(f\"Precisión: {precision}\")\n",
    "print(f\"Sensibilidad: {sensibilidad}\")\n",
    "print(f\"Puntuación F1: {f1}\")\n",
    "print(\"Matriz de Confusión:\")\n",
    "\n",
    "\n",
    "# Visualizar la matriz de confusión con Seaborn\n",
    "plt.figure(figsize=(10,7))\n",
    "sns.heatmap(matriz_confusion, annot=True, cmap=\"YlGnBu\", fmt=\"g\")\n",
    "plt.xlabel('Predicho')\n",
    "plt.ylabel('Real')\n",
    "plt.show()\n"
   ]
  },
  {
   "cell_type": "code",
   "execution_count": 59,
   "metadata": {},
   "outputs": [
    {
     "name": "stdout",
     "output_type": "stream",
     "text": [
      "Exactitud: 0.7\n",
      "Precisión: 0.7118870435168301\n",
      "Sensibilidad: 0.7\n",
      "Puntuación F1: 0.7048448529785181\n",
      "Matriz de Confusión:\n"
     ]
    },
    {
     "data": {
      "image/png": "[encoded data removed]",
      "text/plain": [
       "<Figure size 1000x700 with 2 Axes>"
      ]
     },
     "metadata": {},
     "output_type": "display_data"
    }
   ],
   "source": [
    "import seaborn as sns\n",
    "import matplotlib.pyplot as plt\n",
    "from sklearn.tree import DecisionTreeClassifier\n",
    "from sklearn.model_selection import train_test_split\n",
    "from sklearn.metrics import accuracy_score, precision_score, recall_score, f1_score, confusion_matrix\n",
    "\n",
    "\n",
    "\n",
    "# Dividir los datos en conjuntos de entrenamiento y prueba\n",
    "X_train, X_test, Y_train, Y_test = train_test_split(X, y, test_size=0.3, random_state=42)\n",
    "\n",
    "# Inicializar el Árbol de Decisión\n",
    "clf = DecisionTreeClassifier(max_depth=42, random_state=42,class_weight={1: 0.7, 2: 0.3})\n",
    "\n",
    "# Entrenar el clasificador\n",
    "clf.fit(X_train, Y_train)\n",
    "\n",
    "# Realizar predicciones en el conjunto de prueba\n",
    "Y_pred = clf.predict(X_test)\n",
    "\n",
    "# Calcular métricas\n",
    "exactitud = accuracy_score(Y_test, Y_pred)\n",
    "precision = precision_score(Y_test, Y_pred, average='weighted') \n",
    "sensibilidad = recall_score(Y_test, Y_pred, average='weighted')\n",
    "f1 = f1_score(Y_test, Y_pred, average='weighted')\n",
    "matriz_confusion = confusion_matrix(Y_test, Y_pred)\n",
    "\n",
    "print(f\"Exactitud: {exactitud}\")\n",
    "print(f\"Precisión: {precision}\")\n",
    "print(f\"Sensibilidad: {sensibilidad}\")\n",
    "print(f\"Puntuación F1: {f1}\")\n",
    "print(\"Matriz de Confusión:\")\n",
    "\n",
    "\n",
    "# Visualizar la matriz de confusión con Seaborn\n",
    "plt.figure(figsize=(10,7))\n",
    "sns.heatmap(matriz_confusion, annot=True, cmap=\"YlGnBu\", fmt=\"g\")\n",
    "plt.xlabel('Predicho')\n",
    "plt.ylabel('Real')\n",
    "plt.show()\n"
   ]
  }
 ],
 "metadata": {
  "kernelspec": {
   "display_name": "base",
   "language": "python",
   "name": "python3"
  },
  "language_info": {
   "codemirror_mode": {
    "name": "ipython",
    "version": 3
   },
   "file_extension": ".py",
   "mimetype": "text/x-python",
   "name": "python",
   "nbconvert_exporter": "python",
   "pygments_lexer": "ipython3",
   "version": "3.9.13"
  }
 },
 "nbformat": 4,
 "nbformat_minor": 2
}
